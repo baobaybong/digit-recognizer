{
 "cells": [
  {
   "cell_type": "code",
   "execution_count": 9,
   "metadata": {},
   "outputs": [
    {
     "name": "stderr",
     "output_type": "stream",
     "text": [
      "c:\\Users\\Ngu\\mambaforge\\envs\\ml_env\\Lib\\site-packages\\torchvision\\datapoints\\__init__.py:12: UserWarning: The torchvision.datapoints and torchvision.transforms.v2 namespaces are still Beta. While we do not expect major breaking changes, some APIs may still change according to user feedback. Please submit any feedback you may have in this issue: https://github.com/pytorch/vision/issues/6753, and you can also check out https://github.com/pytorch/vision/issues/7319 to learn more about the APIs that we suspect might involve future changes. You can silence this warning by calling torchvision.disable_beta_transforms_warning().\n",
      "  warnings.warn(_BETA_TRANSFORMS_WARNING)\n",
      "c:\\Users\\Ngu\\mambaforge\\envs\\ml_env\\Lib\\site-packages\\torchvision\\transforms\\v2\\__init__.py:54: UserWarning: The torchvision.datapoints and torchvision.transforms.v2 namespaces are still Beta. While we do not expect major breaking changes, some APIs may still change according to user feedback. Please submit any feedback you may have in this issue: https://github.com/pytorch/vision/issues/6753, and you can also check out https://github.com/pytorch/vision/issues/7319 to learn more about the APIs that we suspect might involve future changes. You can silence this warning by calling torchvision.disable_beta_transforms_warning().\n",
      "  warnings.warn(_BETA_TRANSFORMS_WARNING)\n"
     ]
    }
   ],
   "source": [
    "import numpy as np\n",
    "import matplotlib.pyplot as plt\n",
    "\n",
    "import torch\n",
    "import torch.optim as optim\n",
    "from torch import nn\n",
    "import torch.nn.functional as F\n",
    "from torch.utils.data import TensorDataset, DataLoader\n",
    "from torchvision.datasets import MNIST\n",
    "from torchvision.transforms import v2"
   ]
  },
  {
   "cell_type": "code",
   "execution_count": 10,
   "metadata": {},
   "outputs": [
    {
     "name": "stdout",
     "output_type": "stream",
     "text": [
      "cpu\n"
     ]
    }
   ],
   "source": [
    "device = torch.device(\"cuda:0\" if torch.cuda.is_available() else \"cpu\")\n",
    "print(device)"
   ]
  },
  {
   "cell_type": "code",
   "execution_count": 11,
   "metadata": {},
   "outputs": [],
   "source": [
    "train_ds = MNIST(root=\"../data\", train=True, download=True)\n",
    "test_ds = MNIST(root=\"../data\", train=False, download=True)"
   ]
  },
  {
   "cell_type": "code",
   "execution_count": 34,
   "metadata": {},
   "outputs": [],
   "source": [
    "transform = v2.Compose([v2.ToImageTensor(), v2.ConvertDtype()])\n",
    "\n",
    "X_train = transform(train_ds.data).unsqueeze(1)\n",
    "y_train = train_ds.targets\n",
    "X_test = transform(test_ds.data).unsqueeze(1)\n",
    "y_test = test_ds.targets"
   ]
  },
  {
   "cell_type": "code",
   "execution_count": 37,
   "metadata": {},
   "outputs": [
    {
     "data": {
      "image/png": "[encoded data removed]",
      "text/plain": [
       "<Figure size 800x300 with 10 Axes>"
      ]
     },
     "metadata": {},
     "output_type": "display_data"
    }
   ],
   "source": [
    "fig, axes = plt.subplots(2, 5, figsize=(8, 3))\n",
    "\n",
    "for i, ax in enumerate(axes.flat):\n",
    "    image, label = X_train[i], y_train[i]\n",
    "    ax.imshow(image.squeeze(), cmap='gray')\n",
    "    ax.set_title(label)\n",
    "    ax.axis('off')\n",
    "\n",
    "plt.tight_layout()"
   ]
  },
  {
   "cell_type": "code",
   "execution_count": 38,
   "metadata": {},
   "outputs": [],
   "source": [
    "# Define the hyperparameters\n",
    "input_size = 28 * 28  # MNIST image size is 28x28\n",
    "num_classes = 10\n",
    "\n",
    "learning_rate = 0.01\n",
    "batch_size = 64\n",
    "num_epochs = 2"
   ]
  },
  {
   "cell_type": "code",
   "execution_count": 60,
   "metadata": {},
   "outputs": [
    {
     "data": {
      "text/plain": [
       "Sequential(\n",
       "  (0): Conv2d(1, 32, kernel_size=(3, 3), stride=(1, 1), padding=(1, 1))\n",
       "  (1): ReLU()\n",
       "  (2): Conv2d(32, 32, kernel_size=(3, 3), stride=(1, 1), padding=(1, 1))\n",
       "  (3): ReLU()\n",
       "  (4): MaxPool2d(kernel_size=2, stride=2, padding=0, dilation=1, ceil_mode=False)\n",
       "  (5): Flatten(start_dim=1, end_dim=-1)\n",
       "  (6): Linear(in_features=6272, out_features=512, bias=True)\n",
       "  (7): ReLU()\n",
       "  (8): Linear(in_features=512, out_features=1024, bias=True)\n",
       "  (9): ReLU()\n",
       "  (10): Linear(in_features=1024, out_features=10, bias=True)\n",
       ")"
      ]
     },
     "execution_count": 60,
     "metadata": {},
     "output_type": "execute_result"
    }
   ],
   "source": [
    "cnn = nn.Sequential(\n",
    "    nn.Conv2d(1, 32, kernel_size=3, stride=1, padding=1),\n",
    "    nn.ReLU(),\n",
    "    nn.BatchNorm2d(1),\n",
    "\n",
    "    nn.Conv2d(32, 32, kernel_size=3, stride=1, padding=1),\n",
    "    nn.ReLU(),\n",
    "    nn.BatchNorm2d(1),\n",
    "\n",
    "    nn.MaxPool2d(kernel_size=2, stride=2),\n",
    "\n",
    "    nn.Flatten(),\n",
    "    nn.Linear(6272, 512),\n",
    "    nn.ReLU(),\n",
    "    nn.BatchNorm1d(512),\n",
    "\n",
    "    nn.Linear(512, 1024),\n",
    "    nn.ReLU(),\n",
    "    nn.BatchNorm1d(1024),\n",
    "    nn.Linear(1024, num_classes),\n",
    ")\n",
    "\n",
    "opt = optim.SGD(cnn.parameters(), lr=learning_rate)\n",
    "loss_func = F.cross_entropy\n",
    "\n",
    "cnn"
   ]
  },
  {
   "cell_type": "code",
   "execution_count": 61,
   "metadata": {},
   "outputs": [
    {
     "name": "stdout",
     "output_type": "stream",
     "text": [
      "Epoch [1/2], Batch [100/938], Loss: 2.2792\n",
      "Epoch [1/2], Batch [200/938], Loss: 2.2162\n",
      "Epoch [1/2], Batch [300/938], Loss: 1.6254\n",
      "Epoch [1/2], Batch [400/938], Loss: 0.5389\n",
      "Epoch [1/2], Batch [500/938], Loss: 0.4091\n",
      "Epoch [1/2], Batch [600/938], Loss: 0.5891\n",
      "Epoch [1/2], Batch [700/938], Loss: 0.2707\n",
      "Epoch [1/2], Batch [800/938], Loss: 0.3052\n",
      "Epoch [1/2], Batch [900/938], Loss: 0.6444\n",
      "Epoch [2/2], Batch [100/938], Loss: 0.1626\n",
      "Epoch [2/2], Batch [200/938], Loss: 0.2642\n",
      "Epoch [2/2], Batch [300/938], Loss: 0.1852\n",
      "Epoch [2/2], Batch [400/938], Loss: 0.3039\n",
      "Epoch [2/2], Batch [500/938], Loss: 0.1742\n",
      "Epoch [2/2], Batch [600/938], Loss: 0.2367\n",
      "Epoch [2/2], Batch [700/938], Loss: 0.1495\n",
      "Epoch [2/2], Batch [800/938], Loss: 0.2276\n",
      "Epoch [2/2], Batch [900/938], Loss: 0.2827\n"
     ]
    }
   ],
   "source": [
    "tensor_ds = TensorDataset(X_train, y_train)\n",
    "train_loader = DataLoader(tensor_ds, batch_size=batch_size, shuffle=True)\n",
    "\n",
    "# Set model to training mode\n",
    "cnn.train()\n",
    "\n",
    "# Training loop\n",
    "for epoch in range(num_epochs):\n",
    "    for batch_idx, (Xb, yb) in enumerate(train_loader):\n",
    "        # Move the data and targets to the device\n",
    "        Xb = Xb.to(device)\n",
    "        yb = yb.to(device)\n",
    "        \n",
    "        # Forward pass\n",
    "        pred = cnn(Xb)\n",
    "        loss = loss_func(pred, yb)\n",
    "        \n",
    "        # Backward pass and optimization\n",
    "        loss.backward()\n",
    "        opt.step()\n",
    "        opt.zero_grad()\n",
    "        \n",
    "        # Logging\n",
    "        if (batch_idx + 1) % 100 == 0:\n",
    "            print(f\"Epoch [{epoch+1}/{num_epochs}], Batch [{batch_idx+1}/{len(train_loader)}], Loss: {loss.item():.4f}\")"
   ]
  },
  {
   "cell_type": "code",
   "execution_count": 62,
   "metadata": {},
   "outputs": [],
   "source": [
    "def accuracy(out, y_true): \n",
    "    return (torch.argmax(out, dim=1)==y_true).float().mean()"
   ]
  },
  {
   "cell_type": "code",
   "execution_count": 63,
   "metadata": {},
   "outputs": [
    {
     "data": {
      "text/plain": [
       "tensor(0.9408)"
      ]
     },
     "execution_count": 63,
     "metadata": {},
     "output_type": "execute_result"
    }
   ],
   "source": [
    "accuracy(cnn(X_test), y_test)"
   ]
  },
  {
   "cell_type": "code",
   "execution_count": 64,
   "metadata": {},
   "outputs": [],
   "source": [
    "torch.save(cnn, \"../models/cnn_baseline.pth\")"
   ]
  },
  {
   "cell_type": "code",
   "execution_count": 65,
   "metadata": {},
   "outputs": [],
   "source": [
    "model = torch.load(\"../models/cnn_baseline.pth\")"
   ]
  },
  {
   "cell_type": "code",
   "execution_count": 66,
   "metadata": {},
   "outputs": [
    {
     "name": "stdout",
     "output_type": "stream",
     "text": [
      "tensor(7)\n",
      "tensor(7)\n",
      "tensor([[ 0.6545, -5.1231,  2.8030,  4.0074, -4.1795, -0.4274, -8.8734, 11.4492,\n",
      "         -1.1588,  3.0723]], grad_fn=<AddmmBackward0>)\n"
     ]
    },
    {
     "data": {
      "text/plain": [
       "<matplotlib.image.AxesImage at 0x19ece709290>"
      ]
     },
     "execution_count": 66,
     "metadata": {},
     "output_type": "execute_result"
    },
    {
     "data": {
      "image/png": "[encoded data removed]",
      "text/plain": [
       "<Figure size 640x480 with 1 Axes>"
      ]
     },
     "metadata": {},
     "output_type": "display_data"
    }
   ],
   "source": [
    "num = 0\n",
    "print(y_test[num])\n",
    "print(torch.argmax(model(X_test[num].unsqueeze(0))))\n",
    "print(model(X_test[num].unsqueeze(0)))\n",
    "plt.imshow(X_test[num].squeeze(), cmap=\"gray\")"
   ]
  }
 ],
 "metadata": {
  "kernelspec": {
   "display_name": "ml_env",
   "language": "python",
   "name": "python3"
  },
  "language_info": {
   "codemirror_mode": {
    "name": "ipython",
    "version": 3
   },
   "file_extension": ".py",
   "mimetype": "text/x-python",
   "name": "python",
   "nbconvert_exporter": "python",
   "pygments_lexer": "ipython3",
   "version": "3.11.5"
  }
 },
 "nbformat": 4,
 "nbformat_minor": 2
}
