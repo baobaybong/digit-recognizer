{
 "cells": [
  {
   "cell_type": "code",
   "execution_count": 57,
   "metadata": {},
   "outputs": [],
   "source": [
    "import numpy as np\n",
    "import matplotlib.pyplot as plt\n",
    "\n",
    "import torch\n",
    "import torch.optim as optim\n",
    "from torch import nn\n",
    "import torch.nn.functional as F\n",
    "from torch.utils.data import DataLoader\n",
    "from torchvision.transforms import v2\n",
    "from datasets import load_dataset"
   ]
  },
  {
   "cell_type": "code",
   "execution_count": 27,
   "metadata": {},
   "outputs": [
    {
     "name": "stdout",
     "output_type": "stream",
     "text": [
      "cpu\n"
     ]
    }
   ],
   "source": [
    "device = torch.device(\"cuda:0\" if torch.cuda.is_available() else \"cpu\")\n",
    "print(device)"
   ]
  },
  {
   "cell_type": "code",
   "execution_count": 8,
   "metadata": {},
   "outputs": [],
   "source": [
    "ds = load_dataset(\"mnist\")"
   ]
  },
  {
   "cell_type": "code",
   "execution_count": 117,
   "metadata": {},
   "outputs": [
    {
     "name": "stderr",
     "output_type": "stream",
     "text": [
      "c:\\Users\\Ngu\\mambaforge\\envs\\ml_env\\Lib\\site-packages\\torchvision\\transforms\\v2\\_deprecated.py:41: UserWarning: The transform `ToTensor()` is deprecated and will be removed in a future release. Instead, please use `transforms.Compose([transforms.ToImageTensor(), transforms.ConvertImageDtype()])`.\n",
      "  warnings.warn(\n"
     ]
    }
   ],
   "source": [
    "transform = v2.Compose([v2.ToTensor(), v2.ConvertImageDtype()])\n",
    "X_train = torch.stack(list(map(transform, ds['train']['image'])))\n",
    "y_train = torch.tensor(ds['train']['label'])\n",
    "X_test = torch.stack(list(map(transform, ds['test']['image'])))\n",
    "y_test = torch.tensor(ds['test']['label'])"
   ]
  },
  {
   "cell_type": "code",
   "execution_count": 71,
   "metadata": {},
   "outputs": [
    {
     "data": {
      "text/plain": [
       "<matplotlib.image.AxesImage at 0x28582f14a50>"
      ]
     },
     "execution_count": 71,
     "metadata": {},
     "output_type": "execute_result"
    },
    {
     "data": {
      "image/png": "[encoded data removed]",
      "text/plain": [
       "<Figure size 640x480 with 1 Axes>"
      ]
     },
     "metadata": {},
     "output_type": "display_data"
    }
   ],
   "source": [
    "image = X_train[0][0]\n",
    "plt.title(y_train[0])\n",
    "plt.imshow(image, cmap='gray')"
   ]
  },
  {
   "cell_type": "code",
   "execution_count": 98,
   "metadata": {},
   "outputs": [],
   "source": [
    "# Define the hyperparameters\n",
    "input_size = 28 * 28  # MNIST image size is 28x28\n",
    "hidden_size = 128\n",
    "num_classes = 10\n",
    "learning_rate = 0.01\n",
    "batch_size = 64\n",
    "num_epochs = 2"
   ]
  },
  {
   "cell_type": "code",
   "execution_count": 99,
   "metadata": {},
   "outputs": [
    {
     "data": {
      "text/plain": [
       "Sequential(\n",
       "  (0): Flatten(start_dim=1, end_dim=-1)\n",
       "  (1): Linear(in_features=784, out_features=128, bias=True)\n",
       "  (2): ReLU()\n",
       "  (3): Linear(in_features=128, out_features=10, bias=True)\n",
       ")"
      ]
     },
     "execution_count": 99,
     "metadata": {},
     "output_type": "execute_result"
    }
   ],
   "source": [
    "model_linear = nn.Sequential(\n",
    "    nn.Flatten(),\n",
    "    nn.Linear(input_size, hidden_size),\n",
    "    nn.ReLU(),\n",
    "    nn.Linear(hidden_size, num_classes)\n",
    ")\n",
    "opt = optim.SGD(model_linear.parameters(), lr=learning_rate)\n",
    "loss_func = F.cross_entropy\n",
    "\n",
    "model_linear"
   ]
  },
  {
   "cell_type": "code",
   "execution_count": 100,
   "metadata": {},
   "outputs": [
    {
     "name": "stdout",
     "output_type": "stream",
     "text": [
      "Epoch [1/2], Batch [100/938], Loss: 2.0933\n",
      "Epoch [1/2], Batch [200/938], Loss: 1.7260\n",
      "Epoch [1/2], Batch [300/938], Loss: 1.4895\n",
      "Epoch [1/2], Batch [400/938], Loss: 1.2697\n",
      "Epoch [1/2], Batch [500/938], Loss: 1.0470\n",
      "Epoch [1/2], Batch [600/938], Loss: 0.8770\n",
      "Epoch [1/2], Batch [700/938], Loss: 0.7655\n",
      "Epoch [1/2], Batch [800/938], Loss: 0.6448\n",
      "Epoch [1/2], Batch [900/938], Loss: 0.5915\n",
      "Epoch [2/2], Batch [100/938], Loss: 0.6314\n",
      "Epoch [2/2], Batch [200/938], Loss: 0.4773\n",
      "Epoch [2/2], Batch [300/938], Loss: 0.4479\n",
      "Epoch [2/2], Batch [400/938], Loss: 0.4776\n",
      "Epoch [2/2], Batch [500/938], Loss: 0.4837\n",
      "Epoch [2/2], Batch [600/938], Loss: 0.4357\n",
      "Epoch [2/2], Batch [700/938], Loss: 0.4630\n",
      "Epoch [2/2], Batch [800/938], Loss: 0.4952\n",
      "Epoch [2/2], Batch [900/938], Loss: 0.3887\n"
     ]
    }
   ],
   "source": [
    "train_data = torch.utils.data.TensorDataset(X_train, y_train)\n",
    "train_loader = torch.utils.data.DataLoader(train_data, batch_size=batch_size, shuffle=True)\n",
    "\n",
    "# Set model to training mode\n",
    "model_linear.train()\n",
    "\n",
    "# Training loop\n",
    "for epoch in range(num_epochs):\n",
    "    for batch_idx, (Xb, yb) in enumerate(train_loader):\n",
    "        # Move the data and targets to the device\n",
    "        Xb = Xb.to(device)\n",
    "        yb = yb.to(device)\n",
    "        \n",
    "        # Forward pass\n",
    "        pred = model_linear(Xb)\n",
    "        loss = loss_func(pred, yb)\n",
    "        \n",
    "        # Backward pass and optimization\n",
    "        loss.backward()\n",
    "        opt.step()\n",
    "        opt.zero_grad()\n",
    "        \n",
    "        # Print the loss every 100 batches\n",
    "        if (batch_idx + 1) % 100 == 0:\n",
    "            print(f\"Epoch [{epoch+1}/{num_epochs}], Batch [{batch_idx+1}/{len(train_loader)}], Loss: {loss.item():.4f}\")"
   ]
  },
  {
   "cell_type": "code",
   "execution_count": 101,
   "metadata": {},
   "outputs": [],
   "source": [
    "def accuracy(out, y_batch): \n",
    "    return (torch.argmax(out, dim=1)==y_batch).float().mean()"
   ]
  },
  {
   "cell_type": "code",
   "execution_count": 120,
   "metadata": {},
   "outputs": [
    {
     "data": {
      "text/plain": [
       "tensor(0.8938)"
      ]
     },
     "execution_count": 120,
     "metadata": {},
     "output_type": "execute_result"
    }
   ],
   "source": [
    "accuracy(model_linear(X_test), y_test)"
   ]
  },
  {
   "cell_type": "code",
   "execution_count": 104,
   "metadata": {},
   "outputs": [],
   "source": [
    "torch.save(model_linear, \"mlp.pth\")"
   ]
  },
  {
   "cell_type": "code",
   "execution_count": 105,
   "metadata": {},
   "outputs": [
    {
     "data": {
      "text/plain": [
       "Sequential(\n",
       "  (0): Flatten(start_dim=1, end_dim=-1)\n",
       "  (1): Linear(in_features=784, out_features=128, bias=True)\n",
       "  (2): ReLU()\n",
       "  (3): Linear(in_features=128, out_features=10, bias=True)\n",
       ")"
      ]
     },
     "execution_count": 105,
     "metadata": {},
     "output_type": "execute_result"
    }
   ],
   "source": [
    "model = torch.load(\"mlp.pth\")\n",
    "model.eval()"
   ]
  },
  {
   "cell_type": "code",
   "execution_count": 164,
   "metadata": {},
   "outputs": [
    {
     "name": "stdout",
     "output_type": "stream",
     "text": [
      "tensor(9)\n",
      "tensor(9)\n",
      "tensor([[-1.7436, -5.4369, -3.6409, -2.7840,  3.2032,  0.0910, -2.3308,  4.4494,\n",
      "          0.8283,  5.7964]], grad_fn=<AddmmBackward0>)\n"
     ]
    },
    {
     "data": {
      "image/png": "[encoded data removed]",
      "text/plain": [
       "<Figure size 640x480 with 2 Axes>"
      ]
     },
     "metadata": {},
     "output_type": "display_data"
    }
   ],
   "source": [
    "num = 9\n",
    "print(y_test[num])\n",
    "print(torch.argmax(model(X_test[num])))\n",
    "print(model(X_test[num]))\n",
    "plt.imshow(X_test[num][0], cmap=\"gray\")\n",
    "# X_train[num]\n",
    "plt.imshow(X_test[num][0], cmap='hot')\n",
    "plt.colorbar()\n",
    "plt.show()"
   ]
  },
  {
   "cell_type": "code",
   "execution_count": 163,
   "metadata": {},
   "outputs": [
    {
     "data": {
      "image/png": "[encoded data removed]",
      "text/plain": [
       "<Figure size 640x480 with 2 Axes>"
      ]
     },
     "metadata": {},
     "output_type": "display_data"
    }
   ],
   "source": [
    "from PIL import Image\n",
    "\n",
    "image = Image.open(\"../saved_image.png\")\n",
    "\n",
    "image = torch.tensor(np.array(image)) / 255\n",
    "image = image.unsqueeze(0)\n",
    "# print(image.shape)\n",
    "# print(torch.argmax(model(image)))\n",
    "# print(model(image))\n",
    "# plt.imshow(image[0], cmap=\"gray\")\n",
    "import matplotlib.pyplot as plt\n",
    "\n",
    "# Assuming your 2D tensor is named 'tensor'\n",
    "plt.imshow(image[0], cmap='hot')\n",
    "plt.colorbar()\n",
    "plt.show()\n"
   ]
  }
 ],
 "metadata": {
  "kernelspec": {
   "display_name": "ml_env",
   "language": "python",
   "name": "python3"
  },
  "language_info": {
   "codemirror_mode": {
    "name": "ipython",
    "version": 3
   },
   "file_extension": ".py",
   "mimetype": "text/x-python",
   "name": "python",
   "nbconvert_exporter": "python",
   "pygments_lexer": "ipython3",
   "version": "3.11.5"
  }
 },
 "nbformat": 4,
 "nbformat_minor": 2
}
